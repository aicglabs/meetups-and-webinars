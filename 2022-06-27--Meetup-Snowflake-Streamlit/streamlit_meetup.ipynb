{
 "cells": [
  {
   "cell_type": "markdown",
   "metadata": {},
   "source": [
    "# DoorDash For Work Data Deep Dive"
   ]
  },
  {
   "cell_type": "code",
   "execution_count": null,
   "metadata": {},
   "outputs": [],
   "source": [
    "from snowflake.snowpark.session import Session\n",
    "from snowflake.snowpark.types import IntegerType, FloatType\n",
    "from snowflake.snowpark.functions import avg, sum, col, udf, call_udf, call_builtin, year\n",
    "import streamlit as st\n",
    "import pandas as pd\n",
    "import numpy as np\n",
    "from datetime import date\n",
    "from datetime import datetime\n",
    "import altair as alt\n",
    "\n",
    "connection = {\n",
    "    \"account\": \"\",\n",
    "    \"user\": \"\",\n",
    "    \"password\": \"\",\n",
    "    \"warehouse\": \"\",\n",
    "    \"role\": \"\",\n",
    "    \"database\": \"\",\n",
    "    \"schema\": \"\"\n",
    "}\n",
    "\n",
    "session = Session.builder.configs(connection).create()\n",
    "\n"
   ]
  },
  {
   "cell_type": "code",
   "execution_count": null,
   "metadata": {},
   "outputs": [
    {
     "name": "stderr",
     "output_type": "stream",
     "text": [
      "2022-06-27 17:36:28.915 INFO    snowflake.connector.cursor: query: [SELECT  *  FROM (W_DDW_ORDERS_F)]\n",
      "2022-06-27 17:36:29.067 INFO    snowflake.connector.cursor: query execution done\n",
      "2022-06-27 17:36:29.069 INFO    snowflake.connector.cursor: query: [SELECT  *  FROM (W_DDW_EMPLOYEESS_D)]\n",
      "2022-06-27 17:36:29.209 INFO    snowflake.connector.cursor: query execution done\n",
      "2022-06-27 17:36:29.217 INFO    snowflake.connector.cursor: query: [SELECT \"K_ORDER_DLHK\" AS \"K_ORDER_DLHK\", \"K_EMPLOYEE_DLHK\" AS \"l_59sn_K_EMPLOYEE...]\n",
      "2022-06-27 17:36:29.355 INFO    snowflake.connector.cursor: query execution done\n",
      "2022-06-27 17:36:29.357 INFO    snowflake.connector.cursor: query: [SELECT \"K_EMPLOYEE_DLHK\" AS \"r_0qgn_K_EMPLOYEE_DLHK\", \"A_EMPLOYEE_NAME\" AS \"A_EM...]\n",
      "2022-06-27 17:36:29.502 INFO    snowflake.connector.cursor: query execution done\n",
      "2022-06-27 17:36:29.503 INFO    snowflake.connector.cursor: query: [SELECT  *  FROM (W_DDW_MERCHANTS_D)]\n",
      "2022-06-27 17:36:29.634 INFO    snowflake.connector.cursor: query execution done\n",
      "2022-06-27 17:36:29.636 INFO    snowflake.connector.cursor: query: [SELECT  *  FROM (( SELECT NULL :: STRING AS \"K_ORDER_DLHK\", NULL :: STRING AS \"l...]\n",
      "2022-06-27 17:36:29.866 INFO    snowflake.connector.cursor: query execution done\n",
      "2022-06-27 17:36:29.873 INFO    snowflake.connector.cursor: query: [SELECT \"K_ORDER_DLHK\" AS \"K_ORDER_DLHK\", \"l_59sn_K_EMPLOYEE_DLHK\" AS \"l_59sn_K_E...]\n",
      "2022-06-27 17:36:30.023 INFO    snowflake.connector.cursor: query execution done\n",
      "2022-06-27 17:36:30.025 INFO    snowflake.connector.cursor: query: [SELECT \"K_MERCHANT_DLHK\" AS \"r_mmvr_K_MERCHANT_DLHK\", \"A_MERCHANT_NAME\" AS \"A_ME...]\n",
      "2022-06-27 17:36:30.169 INFO    snowflake.connector.cursor: query execution done\n",
      "2022-06-27 17:36:30.172 INFO    snowflake.connector.cursor: query: [SELECT \"K_ORDER_DLHK\", \"r_0qgn_K_EMPLOYEE_DLHK\" AS \"K_EMPLOYEE_DLHK\", \"A_EMPLOYE...]\n",
      "2022-06-27 17:36:31.804 INFO    snowflake.connector.cursor: query execution done\n"
     ]
    }
   ],
   "source": [
    "ord_df = (session.table(\"W_DDW_ORDERS_F\"))\n",
    "emp_df = (session.table(\"W_DDW_EMPLOYEESS_D\"))\n",
    "mer_df = (session.table(\"W_DDW_MERCHANTS_D\"))\n",
    "\n",
    "combined_df = (ord_df.join(emp_df, ord_df[\"K_EMPLOYEE_DLHK\"] == emp_df[\"K_EMPLOYEE_DLHK\"])\n",
    "                        .join(mer_df, ord_df[\"K_MERCHANT_DLHK\"] == mer_df[\"K_MERCHANT_DLHK\"])\n",
    "                        .select(ord_df[\"K_ORDER_DLHK\"], emp_df[\"K_EMPLOYEE_DLHK\"].alias(\"K_EMPLOYEE_DLHK\"), emp_df[\"A_EMPLOYEE_NAME\"], \n",
    "                                mer_df[\"A_MERCHANT_NAME\"], ord_df[\"A_DELIVERY_DATE\"], ord_df[\"A_PICKUP_DELIVERY\"], ord_df[\"M_SUBTOTAL\"], \n",
    "                                ord_df[\"M_TIP\"], ord_df[\"M_SERVICE_FEE\"], ord_df[\"M_ORDER_TOTAL\"], ord_df[\"M_COMPANY_PAID\"], ord_df[\"M_EMPLOYEE_PAID\"], \n",
    "                                ord_df[\"M_AMOUNT_ABOVE_BUDGET\"], ord_df[\"IS_ABOVE_BUDGET\"], ord_df[\"A_WEATHER_CONDITION_SUMMARY\"])).collect()\n"
   ]
  },
  {
   "cell_type": "markdown",
   "metadata": {},
   "source": [
    "### Creating Slider and formatting primary dataset"
   ]
  },
  {
   "cell_type": "code",
   "execution_count": null,
   "metadata": {},
   "outputs": [],
   "source": [
    "max_date = date.today()\n",
    "min_date = date(max_date.year-1, max_date.month, max_date.day)\n",
    "\n",
    "with st.container():\n",
    "    values = st.slider(\n",
    "        \"Order Date Range\",\n",
    "        min_value=min_date,\n",
    "        max_value=max_date,\n",
    "        value=(min_date, max_date))\n",
    "\n",
    "pd_combined_df = pd.DataFrame(combined_df)\n",
    "\n",
    "# Filtering primary dataset by slider dates\n",
    "pd_combined_df[\"A_DELIVERY_DATE\"] = pd.to_datetime(pd_combined_df[\"A_DELIVERY_DATE\"]).dt.date\n",
    "pd_combined_df = pd_combined_df.loc[(pd_combined_df[\"A_DELIVERY_DATE\"] >= values[0]) & (pd_combined_df[\"A_DELIVERY_DATE\"] <= values[1])]\n",
    "\n",
    "# Creating column to distinguish month/year date\n",
    "pd_combined_df[\"MONTH\"] = pd.DatetimeIndex(pd_combined_df[\"A_DELIVERY_DATE\"]).month.map(\"{:02}\".format).astype(str)\n",
    "pd_combined_df[\"YEAR\"] = pd.DatetimeIndex(pd_combined_df[\"A_DELIVERY_DATE\"]).year.astype(str)\n",
    "pd_combined_df[\"MONTH_YEAR\"] = pd_combined_df[\"YEAR\"] + '-' + pd_combined_df[\"MONTH\"]\n",
    "\n",
    "# Metrics needed for later\n",
    "order_ct = len(pd_combined_df.index)\n",
    "order_total = pd_combined_df[\"M_ORDER_TOTAL\"].sum()\n",
    "employee_paid_total = pd_combined_df[\"M_EMPLOYEE_PAID\"].sum()"
   ]
  },
  {
   "cell_type": "markdown",
   "metadata": {},
   "source": [
    "### Creating aggregated datasets for visualizations"
   ]
  },
  {
   "cell_type": "code",
   "execution_count": null,
   "metadata": {},
   "outputs": [],
   "source": [
    "# Creating dataset that aggregates spend amounts by month/year date\n",
    "monthly_orders = pd_combined_df.groupby(\"MONTH_YEAR\", as_index=False).agg({\"M_ORDER_TOTAL\": \"sum\",\n",
    "                                                        \"M_COMPANY_PAID\": \"sum\",\n",
    "                                                        \"M_EMPLOYEE_PAID\": \"sum\",\n",
    "                                                        \"M_SERVICE_FEE\": \"sum\",\n",
    "                                                        \"M_TIP\": \"sum\"})\n",
    "monthly_orders = pd.melt(monthly_orders, id_vars='MONTH_YEAR', value_vars=['M_ORDER_TOTAL', 'M_COMPANY_PAID', 'M_SERVICE_FEE', 'M_EMPLOYEE_PAID', 'M_TIP'], var_name='Spend Category')\n",
    "monthly_orders['value'] = monthly_orders['value'].astype(str)\n",
    "\n",
    "# Over budget dataset\n",
    "pd_over_budget = pd_combined_df.loc[(pd_combined_df[\"IS_ABOVE_BUDGET\"] == True)]\n",
    "over_budget_ct = len(pd_over_budget)\n",
    "over_budget_avg = pd_over_budget['M_EMPLOYEE_PAID'].mean()\n",
    "\n",
    "# Aggregation by weather condition\n",
    "pd_weather = pd_combined_df.groupby(\"A_WEATHER_CONDITION_SUMMARY\").size()\n",
    "\n",
    "# Aggregation by merchant\n",
    "pd_merchant = pd_combined_df.groupby(\"A_MERCHANT_NAME\", as_index=False).agg({'M_ORDER_TOTAL': \"sum\"}).rename(columns={\"M_ORDER_TOTAL\":\"TOTAL_AMOUNT\"})\n",
    "print(pd_merchant)\n",
    "pd_merchant = pd_merchant.sort_values(\"TOTAL_AMOUNT\", ascending=False).head(10)"
   ]
  },
  {
   "cell_type": "markdown",
   "metadata": {},
   "source": [
    "### Formatting and creating visual outputs for Streamlit App"
   ]
  },
  {
   "cell_type": "code",
   "execution_count": null,
   "metadata": {},
   "outputs": [],
   "source": [
    "# Containerize metrics to present\n",
    "st.write('')\n",
    "col1, col2, col3, col4, col5 = st.columns(5)\n",
    "\n",
    "with st.container():\n",
    "    col1.metric(label='Order Count', value=order_ct)\n",
    "    col2.metric(label='Percentage of Orders Above Budget', value=f'{round(over_budget_ct/order_ct*100, 2):0.2f}%')\n",
    "    col3.metric(label='Average Order Amount Over Budget', value=f'${round(over_budget_avg, 2):0.2f}')\n",
    "    col4.metric(label='Percentage Paid by Employees', value=f'{round(employee_paid_total/order_total*100, 2):0.2f}%')\n",
    "    col5.metric(label='Amount of All Orders', value=f'${round(order_total, 2):0.2f}')\n",
    "\n",
    "# Create line chart to show DDW monthly spend over time\n",
    "line_chart = alt.Chart(monthly_orders).mark_line().encode(\n",
    "    x=alt.X('MONTH_YEAR', axis=alt.Axis(title='Date (Year-Month)')),\n",
    "    y=alt.Y('value:Q', axis=alt.Axis(title='Dollar Amount ($)')),\n",
    "    color='Spend Category'\n",
    ").properties(\n",
    "    width=1700,\n",
    "    height=700\n",
    ")\n",
    "\n",
    "# Containerize bar charts\n",
    "with st.container():\n",
    "    st.header('Order Spend by Month')\n",
    "    st.altair_chart(line_chart)\n",
    "\n",
    "col1, col2 = st.columns(2)\n",
    "with col1:\n",
    "    st.header('Count of Weather Conditions of Orders')\n",
    "    st.bar_chart(pd_weather)\n",
    "\n",
    "bar_chart = alt.Chart(pd_merchant).mark_bar().encode(\n",
    "    x=alt.X('TOTAL_AMOUNT:Q', axis=alt.Axis(title='Total Amount ($)')),\n",
    "    y=alt.Y('A_MERCHANT_NAME', axis=alt.Axis(title='Merchant'))\n",
    ").properties(\n",
    "    width=850\n",
    ")\n",
    "with col2:\n",
    "    st.header('Top Ten Merchants by Amount Spent')\n",
    "    st.altair_chart(bar_chart)"
   ]
  }
 ],
 "metadata": {
  "interpreter": {
   "hash": "cc0c17f6fe3091a8516358682a7a468aafa02ab1568436e4f2234a51c85565cd"
  },
  "kernelspec": {
   "display_name": "Python 3.8.13 ('streamlit_meetup')",
   "language": "python",
   "name": "python3"
  },
  "language_info": {
   "codemirror_mode": {
    "name": "ipython",
    "version": 3
   },
   "file_extension": ".py",
   "mimetype": "text/x-python",
   "name": "python",
   "nbconvert_exporter": "python",
   "pygments_lexer": "ipython3",
   "version": "3.8.13"
  },
  "orig_nbformat": 4
 },
 "nbformat": 4,
 "nbformat_minor": 2
}
